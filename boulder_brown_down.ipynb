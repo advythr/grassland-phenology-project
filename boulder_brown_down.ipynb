{
 "cells": [
  {
   "cell_type": "markdown",
   "metadata": {},
   "source": [
    "# Using remotely-sensed NDVI to understand temporal and spatial patterns of grassland brown-down in Boulder County, Colorado\n",
    "\n",
    "Advyth Ramachandran\n",
    "\n",
    "Department of Ecology & Evolutionary Biology,\n",
    "University of Colorado, Boulder\n",
    "\n",
    "*Class Final Project for Earth Analytics Bootcamp, Fall 2023*"
   ]
  },
  {
   "cell_type": "markdown",
   "metadata": {},
   "source": [
    "> *Disclaimer:*\n",
    ">\n",
    "> *The work in this notebook was generated for a class project, is not reviewed, and all findings should be considered preliminary*.\n"
   ]
  },
  {
   "cell_type": "markdown",
   "metadata": {},
   "source": [
    "## **Project Description**\n",
    "\n",
    "Tracking vegetation phenology – the timing of plant growth and physiological processes – is critical to understanding plant response to drought and identifying areas with plant mortality which can create high fire hazard (Li et al. 2023, Bowman et al. 2020, Gemitzi & Koutsias 2021). Changes in plant phenology can be used to understand plant responses to drought, providing information that is relevant to land managers. In semi-arid and arid climates, the timing of plant green-up after the wet season onset and brown-down after dry season onset can change in response to periodic weather fluctuations and seasonal drought, both of which may be altered by climate change (Swain 2021).\n",
    "\n",
    "Examining past temporal trends in phenology is the first step to hypothesizing about future changes in vegetation phenology, which is important to understand as climate change may alter vegetation phenology in ways that amplify fire risk. For example, if climatic warming delays the onset of the winter rainy season by extending the summer/fall seasonal dry period, the temporal co-occurrence of extreme wind events and dry fuels which together create the conditions for rapid fire spread upon ignition, can increase (Swain 2021). In Colorado, extreme wind events in the fall and winter, during which grassland vegetation is senesced (dead and dry), have fueled rapid wildfires such as the 2021 Marshall Fire (Fovell, Brewer, and Garmong 2022). In such semi-arid climates, forecasting the timing of vegetation senescence in the fall dry season is crucial to predicting fire risk.\n",
    "\n",
    "However, plant phenology is spatially variable. While it is widely known that vegetation types differ in the time of senescence (e.g., forest versus grassland), how finer-scale vegetation communities (e.g., shortgrass versus tallgrass prairie) differ in the time of senescence is less clear. In urban and peri-urban areas, understanding when various grassland types senesce in the fall can help identify grassland patches of high fire hazard; that is, patches where the fall brown-down date is earlier, potentially increasing the chance of the co-occurrence of fire weather and dry fuels. In wildland areas where fire risk is less of a management concern, the time of senescence can inform the timing of management interventions to enhance biodiversity such as grazing to remove dominant invasive grass thatch.\n",
    "\n",
    "Remote sensing can be used to track vegetation phenology over time at larger spatial scales than traditional field-based monitoring. While a variety of remotely-sensed metrics can be used to infer vegetation phenology, NDVI is a commonly used metric that quantifies vegetation greenness (Ren et al. 2018) and is relatively consistent with phenology derived from other methods such as phenological cameras (Richardson et al. 2018). If NDVI is very low at a particular location compared to other NDVI values at that location, we can infer that the vegetation has begun to or has already senesced.\n",
    "\n",
    "**Questions**\n",
    "\n",
    "For grassland vegetation in Boulder County, Colorado, I asked:\n",
    "\n",
    "1.\tCan remote sensing data be used to detect vegetation senescence across space and different vegetation community types?\n",
    "2.\tDo distinct vegetation communities (e.g., mixed versus tallgrass versus shortgrass prairie) differ in the timing of vegetation senescence?\n",
    "3.\tIs the timing of vegetation senescence changing over time (possible due to climatic warming)?"
   ]
  },
  {
   "cell_type": "markdown",
   "metadata": {},
   "source": [
    "## **Site Description**\n",
    "\n",
    "Boulder County, located in the state of Colorado, U.S.A., sits at an elevation of about 5,400 feet above sea level (Wikipedia Contributors) and contains a variety of vegetation communities ranging from shortgrass prairie and tallgrass prairie to shrublands, montane forest, and alpine areas (City of Boulder 2021).\n",
    "\n",
    "Below the Rocky Mountain foothills, Boulder County is within the Great Plains region, and has a steppe climate with 10-20 inches of precipitation per year, which occurs year-round, and hot summers (Wikipedia Contributors). Snow falls between October and May. The vegetation in the Great Plains portion of the county is predominantly grassland comprising a mix of grasses and forbs; there are few trees outside of riparian zones (CoNPS n.d.). Plants typically flower from early April through early-to-mid October (CoNPS n.d.).\n",
    "\n",
    "## **Data Description**\n",
    "\n",
    "**_NDVI Remote Sensing Data_**\n",
    "\n",
    "To quantify vegetation brown-down dates, I used data generated by the MODIS (or Moderate Resolution Imaging Spectroradiometer) instrument aboard the Aqua satellite. The U.S. National Aeronautics and Space Administration (NASA) provides a normalized difference vegetation index (NDVI) data product at a 16-day resolution at 250 meter pixel resolution (Didan 2021). The time span of this data ranges from from 2002-2023. The NDVI layer provided by the U.S. National Aeronautics and Space Administration(NASA) is generated using an algorithm that chooses the best available pixel value from all images in the 16 day period, accounting for anomalies and low clouds (Didan 2021).\n",
    "\n",
    "It is important to note that snow cover and cloud cover can influence NDVI values (Bradley et al. 2007). Future work could re-run this analysis using a curve fitting procedure with smoothing as in Bradley et al. (2007) to address these issues.\n",
    "\n",
    "**_Vegetation Type Data_**\n",
    "\n",
    "To test whether NDVI differed among vegetation types, I compared NDVI values to vegetation polygons field-mapped by the City of Boulder Open Space & Mountain Parks Department (OSMP). The Department manages a great variety of ecosystems, mostly in the grasslands and montane forest surrounding the City of Boulder. OSMP has conducted extensive vegetation mapping of land the department manages, categorizing vegetation using the U.S. National Vegetation Classification (USNVC) system which includes several hierarchical categories (City of Boulder 2021). The target level for mapping on OSMP land is the Association level which includes types that are part of the USNVC but also types created by OSMP (City of Boulder 2021). The Association describes dominant species in the vegetation type. The Association are pooled into Macrogroups.\n",
    "\n",
    "> Data Citations:\n",
    ">\n",
    "> Didan, K.. MODIS/Aqua Vegetation Indices 16-Day L3 Global 250m SIN Grid V061. 2021, distributed by NASA EOSDIS Land Processes Distributed Active Archive Center, https://doi.org/10.5067/MODIS/MYD13Q1.061. Accessed 2023-12-18.\n",
    "> \n",
    "> City of Boulder. 2021. OSMP Vegetation (USNVC Alliances). Date updated: November 7, 2023. Date accessed: December 18, 2023. https://open-data.bouldercolorado.gov/datasets/18555477ea2742a19feed47370f98e7b_1/about."
   ]
  },
  {
   "cell_type": "markdown",
   "metadata": {},
   "source": [
    "## **Analysis**"
   ]
  },
  {
   "cell_type": "markdown",
   "metadata": {},
   "source": [
    "## Load libraries"
   ]
  },
  {
   "cell_type": "code",
   "execution_count": null,
   "metadata": {},
   "outputs": [],
   "source": [
    "# Load libraries\n",
    "import cartopy.crs as ccrs\n",
    "import pathlib\n",
    "import earthpy as et\n",
    "import earthpy.earthexplorer as etee\n",
    "import earthpy.appeears as etapp\n",
    "import pandas as pd\n",
    "import geopandas as gpd\n",
    "import geoviews as gv\n",
    "import holoviews as hv\n",
    "import hvplot.pandas\n",
    "import hvplot.xarray\n",
    "import io\n",
    "import matplotlib.pyplot as plt\n",
    "import numpy as np\n",
    "import os\n",
    "import param\n",
    "import panel as pn\n",
    "import requests\n",
    "import regionmask\n",
    "import rioxarray as rxr\n",
    "import seaborn as sns\n",
    "import xarray as xr\n",
    "\n",
    "from glob import glob\n",
    "from shapely.geometry import box, Polygon\n",
    "\n",
    "hv.extension('bokeh')\n",
    "gv.extension(\"bokeh\")"
   ]
  },
  {
   "cell_type": "markdown",
   "metadata": {},
   "source": [
    "## Download data"
   ]
  },
  {
   "cell_type": "code",
   "execution_count": null,
   "metadata": {},
   "outputs": [],
   "source": [
    "# Make data directories\n",
    "\n",
    "data_dir = os.path.join(et.io.HOME, et.io.DATA_NAME, 'boulder-grasslands')\n",
    "ndvi_dir = os.path.join(data_dir, 'ndvi-data')\n",
    "veg_type_dir = os.path.join(data_dir, 'veg-type-data')\n",
    "\n",
    "ndvi_processed_data_path = os.path.join(ndvi_dir, 'processed_data')\n",
    "\n",
    "for a_dir in [ndvi_dir, veg_type_dir, ndvi_processed_data_path]:\n",
    "    if not os.path.exists(a_dir):\n",
    "        os.makedirs(a_dir)"
   ]
  },
  {
   "cell_type": "markdown",
   "metadata": {},
   "source": [
    "Download vegetation community type data."
   ]
  },
  {
   "cell_type": "code",
   "execution_count": null,
   "metadata": {},
   "outputs": [],
   "source": [
    "# Test: Download for one chunk\n",
    "# veg_one_chunk_url = (\n",
    "#     \"https://gis.bouldercolorado.gov/ags_svr2/rest/services/osmp/\"\n",
    "#     \"OSMPVegetation/MapServer/1/query?\"\n",
    "#     \"where=OBJECTID%20%3E%3D%20{min_objectid}%20AND\"\n",
    "#     \"%20OBJECTID%20%3C%3D%20{max_objectid}\"\n",
    "#     \"&outFields=*&outSR=4326&f=geojson\"\n",
    "# )\n",
    "\n",
    "# user_agent = (\n",
    "#     'Mozilla/5.0 (X11; Linux x86_64; rv:60.0) '\n",
    "#     'Gecko/20100101 Firefox/81.0'\n",
    "# )\n",
    "# r = requests.get(url=veg_one_chunk_url\n",
    "#                  .format(min_objectid=11444,\n",
    "#                          max_objectid=11447),\n",
    "#                  headers={'User-Agent': user_agent})\n",
    "\n",
    "# # Read GeoJSON data into a GeoDataFrame\n",
    "# geojson_data = r.json()\n",
    "\n",
    "# veg_one_chunk_gdf = gpd.GeoDataFrame.from_features(geojson_data['features'])\n",
    "\n",
    "# veg_one_chunk_gdf"
   ]
  },
  {
   "cell_type": "code",
   "execution_count": null,
   "metadata": {},
   "outputs": [],
   "source": [
    "# Download vegetation type data if it has not already been downloaded.\n",
    "\n",
    "print(\"Checking if data is downloaded...\")\n",
    "veg_type_path = os.path.join(veg_type_dir, 'veg_type.geojson')\n",
    "\n",
    "if os.path.exists(veg_type_path):\n",
    "    print(\"Data is already downloaded.\")\n",
    "else:\n",
    "    print(\"Data is not downloaded. Initiating download...\")\n",
    "\n",
    "    # Define URL\n",
    "    veg_url = (\n",
    "        \"https://gis.bouldercolorado.gov/ags_svr2/rest/services/osmp/\"\n",
    "        \"OSMPVegetation/MapServer/1/query?\"\n",
    "        \"where=1%3D1&outFields=*\"\n",
    "        \"&returnGeometry=false\"\n",
    "        \"&returnIdsOnly=true&outSR=4326&f=json\"\n",
    "    )\n",
    "\n",
    "    # Mimic web browser\n",
    "    user_agent = (\n",
    "        'Mozilla/5.0 (X11; Linux x86_64; rv:60.0) '\n",
    "        'Gecko/20100101 Firefox/81.0'\n",
    "    )\n",
    "\n",
    "    # Download GEOJSON\n",
    "    r = requests.get(url=veg_url, headers={'User-Agent': user_agent})\n",
    "\n",
    "    # Read GeoJSON data into a GeoDataFrame\n",
    "    geojson_data = r.json()\n",
    "\n",
    "    # Extract the objectIDs (the indexes of the rows in the dataset)\n",
    "    objectid_list = geojson_data[\"objectIds\"]\n",
    "\n",
    "    # Define chunks from the row numbers\n",
    "    chunks = [\n",
    "        (objectid_list[i],\n",
    "            objectid_list[min(i + 1000,\n",
    "                              len(objectid_list)-1)])\n",
    "        for i in range(0, len(objectid_list), 1000)\n",
    "    ]\n",
    "    print(\"Data chunks identified.\")\n",
    "\n",
    "    # Due to the City of Boulder ArcGIS Hub limit of downloading\n",
    "    # a maximum of 1,000 items at a time,\n",
    "    # split the dataset into chunks and download the chunks individually.\n",
    "\n",
    "    veg_list = []\n",
    "\n",
    "    # Download data for each chunk\n",
    "    for (min_objectid, max_objectid) in chunks:\n",
    "\n",
    "        print(\"Downloading chunk.\")\n",
    "\n",
    "        # Define url\n",
    "        veg_url = (\n",
    "            \"https://gis.bouldercolorado.gov/ags_svr2/rest/services/\"\n",
    "            \"osmp/OSMPVegetation/MapServer/1/query?\"\n",
    "            \"where=OBJECTID%20%3E%3D%20{min_objectid}\"\n",
    "            \"%20AND%20OBJECTID%20%3C%3D%20{max_objectid}\"\n",
    "            \"&outFields=*&outSR=4326&f=geojson\"\n",
    "        )\n",
    "\n",
    "        # Mimic web browser\n",
    "        user_agent = (\n",
    "            'Mozilla/5.0 (X11; Linux x86_64; rv:60.0) '\n",
    "            'Gecko/20100101 Firefox/81.0'\n",
    "        )\n",
    "\n",
    "        # Download chunk of data\n",
    "        r = requests.get(url=veg_url.format(\n",
    "            min_objectid=min_objectid,\n",
    "            max_objectid=max_objectid),\n",
    "            headers={'User-Agent': user_agent})\n",
    "\n",
    "        # Read GeoJSON data into a GeoDataFrame\n",
    "        geojson_data = r.json()\n",
    "        veg_chunk_gdf = (gpd.GeoDataFrame\n",
    "                         .from_features(geojson_data['features'])\n",
    "        )\n",
    "\n",
    "        # Add the chunk gdf to the list\n",
    "        veg_list.append(veg_chunk_gdf)\n",
    "\n",
    "        print(\"Done.\")\n",
    "\n",
    "    # Concatenate the chunk gdfs into one gdf\n",
    "    veg_gdf = pd.concat(veg_list)\n",
    "\n",
    "    # Save downloaded data to CSV in directory\n",
    "    veg_gdf.to_file(veg_type_path, driver='GeoJSON')\n",
    "    print(\"Saved data to GeoJSON.\")"
   ]
  },
  {
   "cell_type": "markdown",
   "metadata": {},
   "source": [
    "Download NDVI data."
   ]
  },
  {
   "cell_type": "code",
   "execution_count": null,
   "metadata": {},
   "outputs": [],
   "source": [
    "# Load vegetation data\n",
    "veg_gdf = gpd.read_file(veg_type_path)\n",
    "\n",
    "# Calculate the total bounds\n",
    "bounding_box = veg_gdf.total_bounds\n",
    "\n",
    "# Create a polygon from the bounding box\n",
    "minx, miny, maxx, maxy = bounding_box\n",
    "bounding_box_polygon = box(minx, miny, maxx, maxy)\n",
    "bounding_box_gdf = gpd.GeoDataFrame(geometry=[bounding_box_polygon],\n",
    "                                    crs=veg_gdf.crs)\n",
    "\n",
    "print(bounding_box_gdf)"
   ]
  },
  {
   "cell_type": "code",
   "execution_count": null,
   "metadata": {},
   "outputs": [],
   "source": [
    "# To test bbox code\n",
    "\n",
    "# bbox_map = bounding_box_gdf.hvplot(\n",
    "#     geo=True,\n",
    "#     line_color='black',\n",
    "#     fill_alpha=0,\n",
    "#     tiles='EsriImagery'\n",
    "# ).opts(\n",
    "#     width=800,\n",
    "#     height=800,\n",
    "#     show_legend=False  # Set legend to False to remove it\n",
    "# )\n",
    "\n",
    "# bbox_map"
   ]
  },
  {
   "cell_type": "code",
   "execution_count": null,
   "metadata": {},
   "outputs": [],
   "source": [
    "# Initialize AppeearsDownloader for MODIS NDVI data\n",
    "\n",
    "ndvi_downloader = etapp.AppeearsDownloader(\n",
    "    download_key=\"modis-ndvi\",\n",
    "    ea_dir=ndvi_dir,\n",
    "    product=\"MYD13Q1.061\",  # from list of APPEEARS datasts\n",
    "    layer=\"_250m_16_days_NDVI\",\n",
    "    start_date=\"01-01\",\n",
    "    end_date=\"12-31\",\n",
    "    recurring=True,\n",
    "    year_range=[2015, 2022],\n",
    "    polygon=bounding_box_gdf,\n",
    ")\n",
    "\n",
    "# Download files if the download directory does not exist\n",
    "if os.path.exists(ndvi_downloader.data_dir):\n",
    "    print(\"MODIS NDVI data is already downloaded.\")\n",
    "else:\n",
    "    print(\"Downloading MODIS NDVI data.\")\n",
    "    ndvi_downloader.download_files()\n",
    "\n",
    "ndvi_downloader"
   ]
  },
  {
   "cell_type": "code",
   "execution_count": null,
   "metadata": {},
   "outputs": [],
   "source": [
    "# Merge NDVI arrays into Dataset and cache result\n",
    "\n",
    "# Define NDVI processed data path\n",
    "ndvi_combined_path = os.path.join(ndvi_processed_data_path, \"ndvi_data.nc\")\n",
    "\n",
    "\n",
    "# Load and merge arrays only if the processed data has not already been created\n",
    "if os.path.exists(ndvi_combined_path):\n",
    "    print(\"NDVI data has already been merged and processed.\")\n",
    "else:\n",
    "    print(\"Merging and processing data.\")\n",
    "\n",
    "    # Generate list of data files\n",
    "    ndvi_path_list = glob(\n",
    "        os.path.join(ndvi_downloader.data_dir, \"*\", \"*NDVI*.tif\")\n",
    "    )\n",
    "\n",
    "    # Merge images into a single data array\n",
    "\n",
    "    doy_start = -19  # the character number of the start of doy in file name\n",
    "    doy_end = -12  # the character number of the end of doy in file name\n",
    "    scale_factor = 10000  # from MODIS data documentation\n",
    "\n",
    "    # Define a list\n",
    "    ndvi_da_list = []\n",
    "\n",
    "    # For every file (.tif image), add it to the list\n",
    "    for ndvi_path in ndvi_path_list:\n",
    "        # Get date from file name\n",
    "        doy = ndvi_path[doy_start:doy_end]\n",
    "\n",
    "        # Define the date variable as the doy in file name\n",
    "        date = pd.to_datetime(doy, format='%Y%j')\n",
    "\n",
    "        # Open dataset\n",
    "        da = rxr.open_rasterio(ndvi_path,\n",
    "                               # masked=True changes specific excluded\n",
    "                               # values from the metadata to NaN values\n",
    "                               masked=True).squeeze()\n",
    "\n",
    "        # Prepare to concatenate: Add date dimension and clean up metadata\n",
    "        da = da.assign_coords({'date': date})\n",
    "        da = da.expand_dims({'date': 1})\n",
    "        da.name = 'NDVI'\n",
    "\n",
    "        # Divide by scale factor (see data citation for details)\n",
    "        da = da / scale_factor\n",
    "\n",
    "        # Add the DataArray to the end of the accumulator list\n",
    "        ndvi_da_list.append(da)\n",
    "        print(\"Added .tif data to data array list.\")\n",
    "\n",
    "    # Stack arrays into time series\n",
    "    ndvi_dataset = xr.combine_by_coords(ndvi_da_list, coords=[\"date\"])\n",
    "    print(\"Stacked arrays into data set.\")\n",
    "\n",
    "    # Cache the ndvi dataset as a netCDF\n",
    "    ndvi_dataset.to_netcdf(path=ndvi_combined_path)\n",
    "    print(\"Created netCDF file.\")"
   ]
  },
  {
   "cell_type": "markdown",
   "metadata": {},
   "source": [
    "## Load and explore data"
   ]
  },
  {
   "cell_type": "code",
   "execution_count": null,
   "metadata": {},
   "outputs": [],
   "source": [
    "# View vegetation data\n",
    "veg_gdf\n",
    "\n",
    "# Test plot: vegetation polygons\n",
    "veg_gdf.plot()"
   ]
  },
  {
   "cell_type": "code",
   "execution_count": null,
   "metadata": {},
   "outputs": [],
   "source": [
    "# Load NDVI data\n",
    "ndvi_ds = xr.open_dataset(ndvi_combined_path)\n",
    "ndvi_ds\n",
    "\n",
    "# Generate histogram of NDVI\n",
    "ndvi_ds.NDVI.plot()"
   ]
  },
  {
   "cell_type": "markdown",
   "metadata": {},
   "source": [
    "NDVI [should take values between -1.0 and 1.0.](https://ipad.fas.usda.gov/cropexplorer/Definitions/spotveg.htm) Verify that NDVI falls within expected values."
   ]
  },
  {
   "cell_type": "code",
   "execution_count": null,
   "metadata": {},
   "outputs": [],
   "source": [
    "# Test plot: Plot NDVI in 2022\n",
    "\n",
    "# Select NDVI in 2022 June\n",
    "ndvi_2022_da = (ndvi_ds\n",
    "                .sel(date='2022-06')\n",
    "                .mean('date')\n",
    "                .NDVI)\n",
    "\n",
    "# Plot with matplotlib\n",
    "ndvi_2022_da.plot(cmap=plt.colormaps['PiYG'])\n",
    "veg_gdf.plot(facecolor='none', ax=plt.gca())"
   ]
  },
  {
   "cell_type": "markdown",
   "metadata": {},
   "source": [
    "### Visualize NDVI patterns over time"
   ]
  },
  {
   "cell_type": "code",
   "execution_count": null,
   "metadata": {},
   "outputs": [],
   "source": [
    "ndvi_time = gv.Dataset(ndvi_ds, kdims=['x', 'y', 'date'], vdims=['NDVI'])\n",
    "\n",
    "ndvi_plot = ndvi_time.to(gv.Image).opts(\n",
    "    cmap='greens', colorbar=True, alpha=0.8, tools=['hover'], width=700, height=500)\n",
    "ndvi_ref_plot = ndvi_plot * gv.tile_sources.OSM()\n",
    "\n",
    "hv.save(ndvi_ref_plot, 'test_ndvi_over_time.html')"
   ]
  },
  {
   "cell_type": "markdown",
   "metadata": {},
   "source": [
    "Now, only visualize NDVI within the vegetation polygon boundaries (i.e., ignore all NDVI pixels for which we will not calculate brown-down such as urban and agricultural lands)."
   ]
  },
  {
   "cell_type": "code",
   "execution_count": null,
   "metadata": {},
   "outputs": [],
   "source": [
    "# Before clipping, check CRS\n",
    "print(veg_gdf.crs)\n",
    "print(ndvi_ds.rio.crs)"
   ]
  },
  {
   "cell_type": "code",
   "execution_count": null,
   "metadata": {},
   "outputs": [],
   "source": [
    "# Clip raster to polygons\n",
    "ndvi_ds_veg_only = ndvi_ds.rio.clip(veg_gdf.geometry, all_touched=True)\n",
    "print(ndvi_ds_veg_only.rio.crs)"
   ]
  },
  {
   "cell_type": "code",
   "execution_count": null,
   "metadata": {},
   "outputs": [],
   "source": [
    "# Plot clipped data\n",
    "\n",
    "# Calculate NDVI in 2022 June\n",
    "ndvi_2022_clipped_da = (ndvi_ds_veg_only\n",
    "                        .sel(date='2022-06')\n",
    "                        .mean('date')\n",
    "                        .NDVI)\n",
    "\n",
    "# Plot with matplotlib\n",
    "ndvi_2022_clipped_da.plot(cmap=plt.colormaps['PiYG'])\n",
    "veg_gdf.plot(facecolor='none', ax=plt.gca())"
   ]
  },
  {
   "cell_type": "markdown",
   "metadata": {},
   "source": [
    "## Calculate brown-down"
   ]
  },
  {
   "cell_type": "markdown",
   "metadata": {},
   "source": [
    "For each MODIS NDVI pixel, I estimated the brown-down date, which is the day of year for each year where the vegetation is senesced in fall at the end of the summer growing season. In Boulder County, the growing season is spring-summer.\n",
    "\n",
    "The brown-down date for each pixel was calculated using a percentile threshold as in Marchin et al. (2018) and Browning et al. (2017), as the earliest date (lowest day of year) where the NDVI value is at or below the 10th percentile value for that year. The 10th percentile NDVI was calculated for each year and is relative to the lowest NDVI value within that year, to account for potential differences among years in minimum NDVI values. For the purpose of this preliminary analysis, I was interested in seeing whether brown-down timing was different among years and vegetation types regardless of interannual variation in plant production between years. For example, in a wet year the brown-down represents the day of year where the vegetation was at the 10th percentile \"brownest\" in comparison to its distribution of NDVI for that year, while in a dry year the brown-down represents the day where the vegetation was 10th percentile brownest for that year's distribution of NDVI. The brown-down date, therefore, may correspond to different values of 10th percentile NDVI for each year, for the same location.\n",
    "\n",
    "It should be noted that other methods to extract phenology from NDVI exist and may be more accurate, such as procedures to fit NDVI curves using a double-logistic function (Bradley et al. 2007, Ren et al. 2018). Further work could re-run the analysis applying such methods to calculate brown-down."
   ]
  },
  {
   "cell_type": "code",
   "execution_count": null,
   "metadata": {},
   "outputs": [],
   "source": [
    "# Calculate percentile thresholds\n",
    "thresholds_df = (ndvi_ds.to_dataframe()\n",
    "                 .reset_index()\n",
    "                 # Select only June-December dates - we are\n",
    "                 # not interested in green-up after snowmelt\n",
    "                 .loc[lambda x: (x['date'].dt.month >= 6) & (x['date'].dt.month <= 12)]\n",
    "                 # Convert the data coordinate to column\n",
    "                 .assign(year=lambda x: x['date'].dt.year)\n",
    "                 # Calculate 10th percentile value\n",
    "                 .groupby(['x', 'y', 'year'])\n",
    "                 .agg(threshold=('NDVI', lambda x: x.quantile(0.1)))\n",
    "\n",
    "                 )\n",
    "thresholds_df"
   ]
  },
  {
   "cell_type": "code",
   "execution_count": null,
   "metadata": {},
   "outputs": [],
   "source": [
    "# Identify the 10th percentile dates of greenness\n",
    "\n",
    "dates_da = (ndvi_ds_veg_only.to_dataframe()\n",
    "            .reset_index()\n",
    "            # Select only June-December dates - we are\n",
    "            # not interested in green-up after snowmelt\n",
    "            .loc[lambda x: (x['date'].dt.month >= 6) \n",
    "                 & (x['date'].dt.month <= 12)]\n",
    "            # Convert the data coordinate to column\n",
    "            .assign(year=lambda x: x['date'].dt.year)\n",
    "            # Left-join the thresholds by columns x, y, year\n",
    "            .merge(thresholds_df, on=['x', 'y', 'year'], how='left')\n",
    "            # Create a new column for TF the ndvi value falls at\n",
    "            # or under the threshold\n",
    "            .assign(is_below_threshold=lambda x: x['NDVI'] <= x['threshold'])\n",
    "            # Remove all False columns\n",
    "            .loc[lambda x: x['is_below_threshold']]\n",
    "            # Group by x, y, year, select lowest dates\n",
    "            .groupby(['x', 'y', 'year'])\n",
    "            .agg(min_date=('date', 'min'))\n",
    "            .to_xarray()\n",
    "\n",
    "            )\n",
    "\n",
    "# Create day of year from date column\n",
    "dates_da['day_of_year'] = dates_da.min_date.dt.dayofyear"
   ]
  },
  {
   "cell_type": "code",
   "execution_count": null,
   "metadata": {},
   "outputs": [],
   "source": [
    "# Add in a CRS\n",
    "dates_da = dates_da.rio.write_crs(ndvi_ds_veg_only.rio.crs)\n",
    "print(dates_da.rio.crs)\n",
    "dates_da"
   ]
  },
  {
   "cell_type": "code",
   "execution_count": null,
   "metadata": {},
   "outputs": [],
   "source": [
    "# Test plot to verify dates were calculated\n",
    "\n",
    "print(veg_gdf.crs)\n",
    "print(dates_da.rio.crs)\n",
    "\n",
    "dates_2022_da = (dates_da\n",
    "                     .sel(year=2022)\n",
    "                     .day_of_year)\n",
    "\n",
    "# Plot with matplotlib\n",
    "dates_2022_da.plot(x='x', y='y', cmap=plt.colormaps['viridis_r'])\n",
    "veg_gdf.plot(facecolor='none', ax=plt.gca())"
   ]
  },
  {
   "cell_type": "markdown",
   "metadata": {},
   "source": [
    "Calculate zonal mean brown-down date for each vegetation patch (polygon)."
   ]
  },
  {
   "cell_type": "code",
   "execution_count": null,
   "metadata": {},
   "outputs": [],
   "source": [
    "# Select only day of year\n",
    "dates_array = dates_da['day_of_year']\n",
    "\n",
    "# Create mask of multiple regions from shapefile\n",
    "veg_mask = regionmask.mask_3D_geopandas(\n",
    "    veg_gdf,\n",
    "    dates_array.x,\n",
    "    dates_array.y,\n",
    "    drop=True,\n",
    "    overlap=True,\n",
    "    numbers=\"OBJECTID\"\n",
    ")\n",
    "\n",
    "# Apply mask on dates data\n",
    "dates_array = dates_array.where(veg_mask)\n",
    "\n",
    "\n",
    "# Calculate means by veg polygon and year\n",
    "veg_avg_doy_ds = (dates_array\n",
    "                    .groupby(\"region\")\n",
    "                    .mean([\"x\", \"y\"], skipna=True)\n",
    "                    )\n",
    "\n",
    "# Convert to dataframe\n",
    "veg_avg_doy_df = (veg_avg_doy_ds.to_dataframe()\n",
    "                    .apply(lambda x: x.dropna())\n",
    "                    .sort_values(by=['region', 'year'])\n",
    "                    )\n",
    "\n",
    "veg_avg_doy_df"
   ]
  },
  {
   "cell_type": "code",
   "execution_count": null,
   "metadata": {},
   "outputs": [],
   "source": [
    "veg_avg_doy_df.index\n",
    "veg_avg_doy_df.dtypes"
   ]
  },
  {
   "cell_type": "code",
   "execution_count": null,
   "metadata": {},
   "outputs": [],
   "source": [
    "veg_avg_dates_df = veg_avg_doy_df.copy()\n",
    "\n",
    "# Assuming 'day_of_year' is a column, not part of the MultiIndex\n",
    "veg_avg_dates_df['day_of_year'] = veg_avg_dates_df['day_of_year'].astype(int).apply(lambda x: f'{x:03d}')\n",
    "\n",
    "# Assuming 'year' is part of a MultiIndex\n",
    "veg_avg_dates_df = veg_avg_dates_df.reset_index()  # Reset the entire MultiIndex\n",
    "veg_avg_dates_df['date_of_browndown'] = pd.to_datetime(veg_avg_dates_df['year'].astype(str) + veg_avg_dates_df['day_of_year'], format='%Y%j')\n",
    "\n",
    "type(veg_avg_dates_df)\n",
    "veg_avg_dates_df"
   ]
  },
  {
   "cell_type": "code",
   "execution_count": null,
   "metadata": {},
   "outputs": [],
   "source": [
    "# Convert back into float for plotting\n",
    "veg_avg_dates_df['day_of_year'] = veg_avg_dates_df['day_of_year'].astype(float)\n",
    "print(veg_avg_dates_df['day_of_year'].dtype)\n",
    "veg_avg_dates_df\n",
    "\n",
    "# Test plot\n",
    "veg_avg_dates_df['day_of_year'].plot.hist()"
   ]
  },
  {
   "cell_type": "code",
   "execution_count": null,
   "metadata": {},
   "outputs": [],
   "source": [
    "# Merge average dates by vegetation patch\n",
    "# with original vegetation to retrieve geometry\n",
    "veg_avg_dates_gdf = (veg_avg_dates_df\n",
    "                     .reset_index()\n",
    "                     .merge(veg_gdf, left_on='region',\n",
    "                            right_on='OBJECTID',\n",
    "                            how='left')\n",
    "                     .sort_values(by=['region', 'year'])\n",
    "\n",
    "                     # Convert to gdf\n",
    "                     .pipe(gpd.GeoDataFrame, geometry='geometry')\n",
    "                     )\n",
    "\n",
    "# Remove rows with NaN values for plotting\n",
    "veg_avg_dates_gdf = (veg_avg_dates_gdf\n",
    "                     .loc[veg_avg_dates_gdf['day_of_year']\n",
    "                          .notna()]\n",
    "                     )\n",
    "\n",
    "print(type(veg_avg_dates_gdf))\n",
    "veg_avg_dates_gdf"
   ]
  },
  {
   "cell_type": "code",
   "execution_count": null,
   "metadata": {},
   "outputs": [],
   "source": [
    "# Create a faceted histogram to see brown-down date distributions\n",
    "# for each macrogroup.\n",
    "\n",
    "sns.set(style=\"whitegrid\")\n",
    "g = sns.FacetGrid(veg_avg_dates_gdf, col=\"MACROGROUP\",\n",
    "                  col_wrap=2, height=4, sharex=False)\n",
    "\n",
    "# Map the histogram to each facet\n",
    "g.map(plt.hist, \"day_of_year\", bins=5, edgecolor='black')\n",
    "\n",
    "plt.show()"
   ]
  },
  {
   "cell_type": "markdown",
   "metadata": {},
   "source": [
    "## **Results**"
   ]
  },
  {
   "cell_type": "markdown",
   "metadata": {},
   "source": [
    "### Fig 1. Brown-down dates vary across Boulder County, CO."
   ]
  },
  {
   "cell_type": "markdown",
   "metadata": {},
   "source": [
    "This map shows brown-down dates by pixel in Boulder County for the areas in which vegetation is mapped. The vegetation patches are also shown. There is a variety of brown-down dates ranging from June to December.\n",
    "\n",
    "This code has a bug where the polygons map does not line up with the raster layer. In the upper portion of the plot it is clear that the datasets are on different projections. However, the CRS of both datasets is the same. See the bug report here: https://github.com/earthlab-education/ea-bug-queue/issues/6."
   ]
  },
  {
   "cell_type": "code",
   "execution_count": null,
   "metadata": {},
   "outputs": [],
   "source": [
    "type(dates_da)\n",
    "print(dates_da.rio.crs)\n",
    "type(veg_gdf)\n",
    "print(veg_gdf.crs)"
   ]
  },
  {
   "cell_type": "code",
   "execution_count": null,
   "metadata": {},
   "outputs": [],
   "source": [
    "# Simplify geometry to speed up plotting\n",
    "simplified_veg_gdf = veg_gdf.copy()\n",
    "simplified_veg_gdf['geometry'] = veg_gdf['geometry'].simplify(\n",
    "    tolerance=0.0001)  # Adjust the tolerance as needed\n",
    "\n",
    "# Convert the 'STRING_COLUMN' to a string type\n",
    "simplified_veg_gdf['SCIENTIFICNAME'] = simplified_veg_gdf['SCIENTIFICNAME'].astype(str)\n",
    "\n",
    "## Problem persists even when using .hvplot\n",
    "# # Create veg polygons map\n",
    "# veg_map = simplified_veg_gdf.hvplot(\n",
    "#     geo=True,\n",
    "#     line_color='black',\n",
    "#     fill_alpha=0,\n",
    "#     tiles='EsriImagery',\n",
    "#     hover_cols=['SCIENTIFICNAME']\n",
    "# ).opts(\n",
    "#     width=500,\n",
    "#     height=800,\n",
    "#     show_legend=False,  # Set legend to False to remove it\n",
    "#     tools=['hover']\n",
    "# )\n",
    "\n",
    "veg_map = gv.Polygons(simplified_veg_gdf, vdims=['SCIENTIFICNAME']\n",
    "    # tiles='EsriImagery'\n",
    ").opts(\n",
    "    width=500,\n",
    "    height=800,\n",
    "    show_legend=False,  # Set legend to False to remove it\n",
    "    color=None,\n",
    "    tools=['hover']\n",
    ")\n",
    "\n",
    "# Convert the xarray DataArray to a GeoViews object\n",
    "dates_gvds = gv.Dataset(\n",
    "    dates_da, kdims=['x', 'y', 'year'], vdims=['day_of_year'])\n",
    "\n",
    "\n",
    "# Create a GeoViews plot\n",
    "dates_plot = dates_gvds.to(gv.Image).opts(cmap='viridis_r',\n",
    "                                          colorbar=True,\n",
    "                                          alpha=0.5,\n",
    "                                          width=600,\n",
    "                                          height=800,\n",
    "                                          show_legend=False)\n",
    "\n",
    "\n",
    "dates_veg_plot = (dates_plot\n",
    "                  * veg_map).opts(tools=['hover'],\n",
    "                                  width=600,\n",
    "                                  height=800,\n",
    "                                  show_legend=False)\n",
    "\n",
    "# Display plot\n",
    "dates_veg_plot"
   ]
  },
  {
   "cell_type": "markdown",
   "metadata": {},
   "source": [
    "### Fig 2. Brown-down dates of vegetation patches vary among grasslands compared to forests, and within grassland types."
   ]
  },
  {
   "cell_type": "markdown",
   "metadata": {},
   "source": [
    "This chloropleth plot of vegetation patches in 2021 shows that in the western part of the region, the 10th percentile brownest day of year (a proxy for the vegetation \"brown-down\" or senescence) was in June for most montane forest vegetation patches, but for most grassland vegetation patches, it was in December. The highly destructive Marshall Fire, which occurred on December 30, 2021 in grasslands south of Boulder (Fovell et al. 2022), in the southern portion of the below map, burned weeks after the vegetation browned-down in December."
   ]
  },
  {
   "cell_type": "code",
   "execution_count": null,
   "metadata": {},
   "outputs": [],
   "source": [
    "# Set geometry\n",
    "veg_avg_dates_gdf = veg_avg_dates_gdf.set_geometry('geometry')\n",
    "\n",
    "veg_avg_dates_2021_gdf = veg_avg_dates_gdf[veg_avg_dates_gdf['year'] == 2021]\n",
    "veg_avg_dates_2021_gdf['SCIENTIFICNAME'] = veg_avg_dates_2021_gdf['SCIENTIFICNAME'].astype(str)\n",
    "\n",
    "browndown_2021_plot = veg_avg_dates_2021_gdf.hvplot.polygons(\n",
    "    geo=True,\n",
    "    c='day_of_year',\n",
    "    cmap='viridis',\n",
    "    project=True,\n",
    "    hover_cols=['SCIENTIFICNAME', 'date_of_browndown']\n",
    ").opts(\n",
    "    frame_width=600,\n",
    "    frame_height=400,\n",
    "    title='Vegetation brown-down in 2021',\n",
    "    framewise=True,  # Enable the time slider\n",
    ")\n",
    "\n",
    "# Show the plot\n",
    "browndown_2021_by_veg_patch_plot= browndown_2021_plot * gv.tile_sources.EsriImagery\n",
    "\n",
    "hv.save(browndown_2021_by_veg_patch_plot, 'browndown_2021_by_veg_patch.html')"
   ]
  },
  {
   "cell_type": "markdown",
   "metadata": {},
   "source": [
    "### Fig 3. Brown-down dates of vegetation patches vary across years."
   ]
  },
  {
   "cell_type": "code",
   "execution_count": null,
   "metadata": {},
   "outputs": [],
   "source": [
    "plot_panel_gdf = veg_avg_dates_gdf\n",
    "print(plot_panel_gdf.crs)\n",
    "plot_panel_gdf.geometry\n",
    "plot_panel_gdf.index\n",
    "\n",
    "# Convert the 'STRING_COLUMN' to a string type\n",
    "plot_panel_gdf['SCIENTIFICNAME'] = plot_panel_gdf['SCIENTIFICNAME'].astype(str)\n",
    "\n",
    "opts = dict(width=600, height=600, tools=['hover'], colorbar=True, cmap='viridis_r',\n",
    "            color='day_of_year', clim=(0, 365), toolbar='above', line_color=None,\n",
    "            )\n",
    "\n",
    "\n",
    "class BrowndownSelectYearPlot(param.Parameterized):\n",
    "    year = param.Integer(default=2017, bounds=(2014, 2022), step=1)\n",
    "\n",
    "    def chloro(self):\n",
    "        return gv.Polygons(plot_panel_gdf[plot_panel_gdf['year'] == self.year], vdims=['day_of_year', 'SCIENTIFICNAME']\n",
    "                           )\n",
    "\n",
    "    @param.depends('year')\n",
    "    def view_chloro(self):\n",
    "        return gv.DynamicMap(self.chloro).opts(**opts)\n",
    "\n",
    "p = BrowndownSelectYearPlot()\n",
    "doc = pn.Row(p.param, p.view_chloro)\n",
    "\n",
    "doc.save(filename='browndown_select_year_plot.html', embed=True)"
   ]
  },
  {
   "cell_type": "markdown",
   "metadata": {},
   "source": [
    "### Fig 4. Brown-down date by vegetation alliance shows no clear patterns."
   ]
  },
  {
   "cell_type": "markdown",
   "metadata": {},
   "source": [
    "Brown-down dates across vegetation alliances do not seem to be changing in any clear pattern, and there is heterogeneity among vegetation types."
   ]
  },
  {
   "cell_type": "code",
   "execution_count": null,
   "metadata": {},
   "outputs": [],
   "source": [
    "veg_type_dates = (veg_avg_dates_gdf\n",
    "                  .drop(columns='geometry')\n",
    "                  .assign(year=pd.to_datetime(veg_avg_dates_gdf['year'], format='%Y'))\n",
    "                  # Filter rows containing 'grassland' in the 'name' column\n",
    "                  .loc[gdf['SCIENTIFICNAME'].str.contains('grassland', case=False, na=False)]\n",
    "                  # Filter out rows containing 'grassland' or 'shrubland' in the 'name' column\n",
    "                  .loc[~gdf['SCIENTIFICNAME'].str.contains('shrubland', case=False, na=False)]\n",
    "                  .groupby(['SCIENTIFICNAME', 'year'])\n",
    "                  .agg(avg_doy=('day_of_year', 'mean'))\n",
    "                  )"
   ]
  },
  {
   "cell_type": "code",
   "execution_count": null,
   "metadata": {},
   "outputs": [],
   "source": [
    "brown_down_over_time_lineplot = veg_type_dates.hvplot.line(x='year', y='avg_doy', by='SCIENTIFICNAME', line_width=2, width=600, height=600\n",
    "                                       ).opts(show_legend=False,\n",
    "                                              text_font_size='10pt',\n",
    "                                              ylabel='average date of brown-down',\n",
    "                                              title=\"Brown-down dates by year for grassland types in Boulder County, CO\"\n",
    "                                              )\n",
    "\n",
    "\n",
    "brown_down_over_time_lineplot"
   ]
  },
  {
   "cell_type": "markdown",
   "metadata": {},
   "source": [
    "### Figure 5. Brown-down dates in grasslands versus forests.\n"
   ]
  },
  {
   "cell_type": "markdown",
   "metadata": {},
   "source": [
    "When averaging across grassland and forest types, theres does not seem to be a clear trend in the onset of brown-down over time. Brown-down appears to be trending towards occurring slightly earlier in both forests and grasslands."
   ]
  },
  {
   "cell_type": "code",
   "execution_count": null,
   "metadata": {},
   "outputs": [],
   "source": [
    "g_or_f_pooled_dates = (veg_avg_dates_gdf\n",
    "                          .drop(columns='geometry')\n",
    "                          .assign(year=pd.to_datetime(veg_avg_dates_gdf['year'], format='%Y'))\n",
    "\n",
    "                          # If SCIENTIFICNAME is not blank, assign to either grassland or forest\n",
    "                          .assign(g_or_f=lambda x: x['SCIENTIFICNAME'].apply(lambda name: 'forest' if (name and 'forest' in name.lower()) else 'grassland'))\n",
    "\n",
    "                          # Calculate mean brown-down for each type and year\n",
    "                          .groupby(['year', 'g_or_f'])\n",
    "                          .agg(avg_doy=('day_of_year', 'mean'))\n",
    "                          .reset_index()\n",
    "                          )\n"
   ]
  },
  {
   "cell_type": "code",
   "execution_count": null,
   "metadata": {},
   "outputs": [],
   "source": [
    "g_f_browndown_plot = g_or_f_pooled_dates.hvplot.line(x='year', y='avg_doy', by='g_or_f', line_width=2, width=600, height=400\n",
    "                                                                  ).opts(\n",
    "    ylabel='average date of brown-down',\n",
    "    title=\"Brown-down dates by year in forests and grasslands of Boulder County, CO\"\n",
    ")\n",
    "g_f_browndown_plot"
   ]
  },
  {
   "cell_type": "markdown",
   "metadata": {},
   "source": [
    "## **Potential Future Directions**\n",
    "\n",
    "In addition to those already future directions identified above, further work could:\n",
    "\n",
    "1. expand the analysis to include more years (from the beginning of MODIS data in 2002 to 2023). This analysis only considered 2014-2022 to reduce code run-time.\n",
    "2. investigate the drivers of differences in vegetation brown-down by comparing climatic variables and soil variables spatially averaged across vegetation patches and regressing those variables with brown-down dates.\n",
    "3. expand the spatial extent of the analysis beyond Boulder County to include other areas where vegetation communities are mapped, and compare the probability of fire occurrence to the onset of brown-down to ask: Does earlier brown-down increase the probability of wildfire occurrence?\n"
   ]
  },
  {
   "cell_type": "markdown",
   "metadata": {},
   "source": [
    "## **References**\n",
    "\n",
    "\n"
   ]
  },
  {
   "cell_type": "markdown",
   "metadata": {},
   "source": [
    "CoNPS. n.d. “Plains Plants and Habitats.” Colorado Native Plant Society. Accessed December 18, 2023. https://conps.org/home-2/resources/plants-habitats/plains-plants-and-habitats/.\n",
    "\n",
    "Bowman, D.M.J.S., Kolden, C.A., Abatzoglou, J.T. et al. Vegetation fires in the Anthropocene. \n",
    "Nat Rev Earth Environ 1, 500–515 (2020). https://doi.org/10.1038/s43017-020-0085-3\n",
    "\n",
    "Bradley, Bethany A., Robert W. Jacob, John F. Hermance, and John F. Mustard. 2007. “A Curve Fitting Procedure to Derive Inter-Annual \n",
    "Phenologies from Time Series of Noisy Satellite NDVI Data.” Remote Sensing of Environment 106 (2): 137–45. https://doi.org/10.1016/j.rse.2006.08.002.\n",
    "\n",
    "Browning, Dawn M., Jason W. Karl, David Morin, Andrew D. Richardson, and Craig E. Tweedie. 2017. “Phenocams Bridge the Gap between Field and Satellite Observations in an Arid Grassland Ecosystem.” Remote Sensing 9 (10): 1071. https://doi.org/10.3390/rs9101071.\n",
    "\n",
    "Didan, K.. MODIS/Aqua Vegetation Indices 16-Day L3 Global 250m SIN Grid V061. 2021, distributed by NASA EOSDIS Land Processes Distributed Active Archive Center, https://doi.org/10.5067/MODIS/MYD13Q1.061. Accessed 2023-12-18.\n",
    "\n",
    "Fovell, Robert G., Matthew J. Brewer, and Richard J. Garmong. 2022. “The December 2021 Marshall Fire: Predictability and Gust Forecasts from Operational Models.” Atmosphere 13 (5): 765. https://doi.org/10.3390/atmos13050765.\n",
    "\n",
    "Gemitzi, A., & Koutsias, N. (2021). Assessment of properties of vegetation phenology in fire-affected areas from 2000 to 2015 in the Peloponnese, Greece. Remote Sensing Applications: Society and Environment, 23, 100535.\n",
    "\n",
    "Li, Y., Zhang, W., Schwalm, C. R., Gentine, P., Smith, W. K., Ciais, P., ... & Wu, X. (2023). Widespread spring phenology effects on drought recovery of Northern Hemisphere ecosystems. Nature Climate Change, 13(2), 182-188.\n",
    "\n",
    "Marchin, Renée M., Ian McHugh, Robert R. Simpson, Lachlan J. Ingram, Damian S. Balas, Bradley J. Evans, and Mark A. Adams. 2018. “Productivity of an Australian Mountain Grassland Is Limited by Temperature and Dryness despite Long Growing Seasons.” Agricultural and Forest Meteorology 256–257 (June): 116–24. https://doi.org/10.1016/j.agrformet.2018.02.030.\n",
    "\n",
    "Ren, Shilong, Xiaoqiu Chen, Weiguang Lang, and Mark D. Schwartz. 2018. “Climatic Controls of the Spatial Patterns of Vegetation Phenology in Midlatitude Grasslands of the Northern Hemisphere.” Journal of Geophysical Research: Biogeosciences 123 (8): 2323–36. https://doi.org/10.1029/2018JG004616.\n",
    "\n",
    "Swain, Daniel L. 2021. “A Shorter, Sharper Rainy Season Amplifies California Wildfire Risk.” Geophysical Research Letters 48 (5): e2021GL092843. https://doi.org/10.1029/2021GL092843.\n",
    "\n",
    "Wikipedia contributors. 2023. “Boulder, Colorado.” In Wikipedia, The Free Encyclopedia, Page Version ID: 1184357209. Date accessed: December 18, 2023. https://en.wikipedia.org/w/index.php?title=Boulder,_Colorado&oldid=1184357209.\n"
   ]
  }
 ],
 "metadata": {
  "kernelspec": {
   "display_name": "earth-analytics-python",
   "language": "python",
   "name": "python3"
  },
  "language_info": {
   "codemirror_mode": {
    "name": "ipython",
    "version": 3
   },
   "file_extension": ".py",
   "mimetype": "text/x-python",
   "name": "python",
   "nbconvert_exporter": "python",
   "pygments_lexer": "ipython3",
   "version": "3.10.13"
  }
 },
 "nbformat": 4,
 "nbformat_minor": 2
}
